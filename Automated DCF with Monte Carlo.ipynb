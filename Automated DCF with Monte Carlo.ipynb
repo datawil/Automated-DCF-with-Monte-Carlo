{
 "cells": [
  {
   "cell_type": "code",
   "execution_count": 16,
   "id": "bc28d6a9-bd82-4302-94d9-a36f1615d8f4",
   "metadata": {},
   "outputs": [],
   "source": [
    "# Step 1 Data Collection\n",
    "\n",
    "import yfinance as yf\n",
    "ticker = yf.Ticker(\"AAPL\")\n",
    "cash_flows = ticker.cashflow  # Get 5 years of cash flows"
   ]
  },
  {
   "cell_type": "code",
   "execution_count": 17,
   "id": "93bbd026-c733-4204-ba56-44204bf56877",
   "metadata": {},
   "outputs": [],
   "source": [
    "# Step 2 Build DCF Logic\n",
    "\n",
    "import numpy as np\n",
    "from numpy_financial import npv\n",
    "\n",
    "# Sample cash flow data\n",
    "fcf = np.array([100, 110, 120])\n",
    "\n",
    "# Define your DCF function\n",
    "\n",
    "def dcf_valuation(fcf, wacc=0.08, terminal_growth=0.02):\n",
    "    terminal_value = fcf[-1] * (1 + terminal_growth) / (wacc - terminal_growth)\n",
    "    all_cash_flows = np.append(fcf, terminal_value)\n",
    "    return npv(wacc, all_cash_flows)\n",
    "\n",
    "# Monte Carlo Simulation\n",
    "\n",
    "def monte_carlo_dcf(fcf_mean, fcf_std, iterations=1000):\n",
    "    simulations = []\n",
    "    for _ in range(iterations):\n",
    "        simulated_fcf = np.random.normal(fcf_mean, fcf_std, size=5)  # 5-year projection\n",
    "        simulations.append(dcf_valuation(simulated_fcf))\n",
    "    return np.percentile(simulations, [5, 50, 95])  # 90% CI"
   ]
  },
  {
   "cell_type": "code",
   "execution_count": 18,
   "id": "b7b97a0f-b141-4372-9020-024983364ee0",
   "metadata": {},
   "outputs": [
    {
     "data": {
      "text/html": [
       "\n",
       "        <iframe\n",
       "            width=\"100%\"\n",
       "            height=\"650\"\n",
       "            src=\"http://127.0.0.1:8050/\"\n",
       "            frameborder=\"0\"\n",
       "            allowfullscreen\n",
       "            \n",
       "        ></iframe>\n",
       "        "
      ],
      "text/plain": [
       "<IPython.lib.display.IFrame at 0x269a387f990>"
      ]
     },
     "metadata": {},
     "output_type": "display_data"
    }
   ],
   "source": [
    "# Step 3 Dash Dashboard\n",
    "\n",
    "import dash\n",
    "from dash import Dash, dcc, html, Input, Output\n",
    "import plotly.express as px\n",
    "\n",
    "app = dash.Dash(__name__)\n",
    "app.layout = html.Div([\n",
    "    dcc.Slider(id=\"wacc-slider\", min=0.05, max=0.15, step=0.01, value=0.08),\n",
    "    dcc.Graph(id=\"dcf-plot\")\n",
    "])\n",
    "\n",
    "@app.callback(Output(\"dcf-plot\", \"figure\"), Input(\"wacc-slider\", \"value\"))\n",
    "def update_graph(wacc):\n",
    "    valuation = dcf_valuation(fcf, wacc)\n",
    "    return px.bar(x=[\"DCF Value\"], y=[valuation], title=f\"Enterprise Value: ${valuation:,.2f}\")\n",
    "\n",
    "app.run(mode='inline')"
   ]
  },
  {
   "cell_type": "code",
   "execution_count": null,
   "id": "32720ef8-2ff5-41ff-b9aa-29633c01be70",
   "metadata": {},
   "outputs": [],
   "source": []
  }
 ],
 "metadata": {
  "kernelspec": {
   "display_name": "Python 3",
   "language": "python",
   "name": "python3"
  },
  "language_info": {
   "codemirror_mode": {
    "name": "ipython",
    "version": 3
   },
   "file_extension": ".py",
   "mimetype": "text/x-python",
   "name": "python",
   "nbconvert_exporter": "python",
   "pygments_lexer": "ipython3",
   "version": "3.11.8"
  }
 },
 "nbformat": 4,
 "nbformat_minor": 5
}
